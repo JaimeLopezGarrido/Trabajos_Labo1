{
  "cells": [
    {
      "cell_type": "markdown",
      "metadata": {
        "id": "F3r8aa3pBigj"
      },
      "source": [
        "# Tarea para el Hogar 02"
      ]
    },
    {
      "cell_type": "markdown",
      "metadata": {
        "id": "nBm4ktHUBmZt"
      },
      "source": [
        "Esta Tarea para el Hogar 02 se entrega el final de la segunda clase\n",
        "<br> se espera de usted que intente avanzar con los desafios propuestos y que los traiga terminados para la Clase 03, ya que se analizarán los resultados"
      ]
    },
    {
      "cell_type": "markdown",
      "metadata": {
        "id": "TK-M04ElCESC"
      },
      "source": [
        "##  1. Ensembles de Modelos"
      ]
    },
    {
      "cell_type": "markdown",
      "metadata": {
        "id": "biPYxgobCOSS"
      },
      "source": [
        "Vea el siguiente video [BBC - The Code - The Wisdom of the Crowd](https://www.youtube.com/watch?v=iOucwX7Z1HU)    ( 5 min)\n"
      ]
    },
    {
      "cell_type": "markdown",
      "metadata": {
        "id": "FBszBRyNCcjp"
      },
      "source": [
        "Lea los siguientes artículos\n",
        "\n",
        "\n",
        "*   [The Wisdom of Crowds (Vox Populi) by Francis Galton](https://www.all-about-psychology.com/the-wisdom-of-crowds.html)  (10 min)\n",
        "*   [A Gentle Introduction to Ensemble Learning](https://machinelearningmastery.com/what-is-ensemble-learning/)  (10 min)\n",
        "\n"
      ]
    },
    {
      "cell_type": "markdown",
      "metadata": {
        "id": "x7SebtV2lpHQ"
      },
      "source": [
        "\n",
        "\n",
        "---\n",
        "\n"
      ]
    },
    {
      "cell_type": "markdown",
      "metadata": {
        "id": "NQcY8u2MDSLT"
      },
      "source": [
        "##  2.  Zero2Hero   primera parte\n",
        "Se han lanzado los primeros fascículos coleccionables llamados \"from Zero to Hero\" que muy detalladamente, paso a paso enseñan todo lo necesario de R para entender los scripts oficiales de la asignatura.\n",
        "Están en el repositorio oficial de la asignatura, carpeta  **src/zero2hero**"
      ]
    },
    {
      "cell_type": "markdown",
      "metadata": {
        "id": "GcO0OSiIEAGy"
      },
      "source": [
        "\n",
        "\n",
        "---\n",
        "\n"
      ]
    },
    {
      "cell_type": "markdown",
      "metadata": {
        "id": "6MStcyn0EBdT"
      },
      "source": [
        "## 3.  Grid Search"
      ]
    },
    {
      "cell_type": "markdown",
      "metadata": {
        "id": "gM8RKXDgEIY0"
      },
      "source": [
        "Busque en internet el precido significado de los hiperparámetros de la librería **rpart**  que está implementando el algoritmo **CART**  Classification and Regression Trees  propuesto en el año 1984 por Leo Brieman:\n",
        "\n",
        "*   cp\n",
        "*   maxdepth\n",
        "*   minsplit\n",
        "*   minbucket\n",
        "\n",
        "Entienda que valores es razonable tome cada hiperparámetro,  en particular profundice en el hiperparámetro  **cp**  y la posibilidad que tome valores negativos.  Es válido consultar a su amigo de *capacidades especiales*  ChatGPT\n"
      ]
    },
    {
      "cell_type": "markdown",
      "metadata": {
        "id": "_k7eT3HIFy9y"
      },
      "source": [
        "En las siguientes celdas a un notebook incompleto, un esqueleto de codigo brindado a modo de facilitarle la tarea de codeo y permitir que su valiosa cognición se concentre temas conceptuales de Ciencia de Datos\n",
        "\n",
        "Modifiquelo agregando loops para que recorra TODOS los hiperparámetros de rpart  < cp, maxdepth, minsplit, minbucket >, y luego póngalo a correr. Recuerde cambiar por SU semilla\n",
        "Tenga muy presente la granularidad que eligirá para cada hiperparámetro."
      ]
    },
    {
      "cell_type": "markdown",
      "metadata": {
        "id": "kmLygy1TYPfg"
      },
      "source": [
        "### Seteo del ambiente en Google Colab"
      ]
    },
    {
      "cell_type": "markdown",
      "metadata": {
        "id": "OikOm5K2YU3X"
      },
      "source": [
        "Esta parte se debe correr con el runtime en Python3\n",
        "<br>Ir al menu, Runtime -> Change Runtime Tipe -> Runtime type ->  **Python 3**"
      ]
    },
    {
      "cell_type": "markdown",
      "metadata": {
        "id": "4fmV5LyZdFyI"
      },
      "source": [
        "Conectar la virtual machine donde esta corriendo Google Colab con el  Google Drive, para poder tener persistencia de archivos"
      ]
    },
    {
      "cell_type": "code",
      "execution_count": null,
      "metadata": {
        "colab": {
          "base_uri": "https://localhost:8080/"
        },
        "id": "ilEZ-bE2VybW",
        "outputId": "093cbbbb-823b-44b5-e97a-c4052e301b5e"
      },
      "outputs": [
        {
          "output_type": "stream",
          "name": "stdout",
          "text": [
            "Mounted at /content/.drive\n"
          ]
        }
      ],
      "source": [
        "# primero establecer el Runtime de Python 3\n",
        "from google.colab import drive\n",
        "drive.mount('/content/.drive')"
      ]
    },
    {
      "cell_type": "markdown",
      "metadata": {
        "id": "ilaKtqWldeWg"
      },
      "source": [
        "Para correr la siguiente celda es fundamental en Arranque en Frio haber copiado el archivo kaggle.json al Google Drive, en la carpeta indicada en el instructivo\n",
        "\n",
        "<br>los siguientes comando estan en shell script de Linux\n",
        "*   Crear las carpetas en el Google Drive\n",
        "*   \"instalar\" el archivo kaggle.json desde el Google Drive a la virtual machine para que pueda ser utilizado por la libreria  kaggle de Python\n",
        "*   Bajar el  **dataset_pequeno**  al  Google Drive  y tambien al disco local de la virtual machine que esta corriendo Google Colab\n",
        "\n"
      ]
    },
    {
      "cell_type": "code",
      "execution_count": null,
      "metadata": {
        "colab": {
          "base_uri": "https://localhost:8080/"
        },
        "id": "W8dQFI5QYCFa",
        "outputId": "93f8e353-4d74-48fa-d06c-9f52c382bf79"
      },
      "outputs": [
        {
          "output_type": "stream",
          "name": "stdout",
          "text": [
            "cp: cannot stat '/content/buckets/b1/kaggle/kaggle.json': No such file or directory\n",
            "chmod: cannot access '/root/.kaggle/kaggle.json': No such file or directory\n"
          ]
        },
        {
          "output_type": "execute_result",
          "data": {
            "text/plain": []
          },
          "metadata": {},
          "execution_count": 2
        }
      ],
      "source": [
        "%%shell\n",
        "\n",
        "mkdir -p \"/content/.drive/My Drive/labo1\"\n",
        "mkdir -p \"/content/buckets\"\n",
        "ln -s \"/content/.drive/My Drive/labo1\" /content/buckets/b1\n",
        "\n",
        "mkdir -p ~/.kaggle\n",
        "cp /content/buckets/b1/kaggle/kaggle.json  ~/.kaggle\n",
        "chmod 600 ~/.kaggle/kaggle.json\n",
        "\n",
        "\n",
        "mkdir -p /content/buckets/b1/exp\n",
        "mkdir -p /content/buckets/b1/datasets\n",
        "mkdir -p /content/datasets\n",
        "\n",
        "\n",
        "\n",
        "archivo_origen=\"https://storage.googleapis.com/open-courses/austral2025-af91/dataset_pequeno.csv\"\n",
        "archivo_destino=\"/content/datasets/dataset_pequeno.csv\"\n",
        "archivo_destino_bucket=\"/content/buckets/b1/datasets/dataset_pequeno.csv\"\n",
        "\n",
        "if ! test -f $archivo_destino_bucket; then\n",
        "  wget  $archivo_origen  -O $archivo_destino_bucket\n",
        "fi\n",
        "\n",
        "\n",
        "if ! test -f $archivo_destino; then\n",
        "  cp  $archivo_destino_bucket  $archivo_destino\n",
        "fi\n",
        "\n"
      ]
    },
    {
      "cell_type": "markdown",
      "metadata": {
        "id": "SE94XRhWsxkX"
      },
      "source": [
        "limpio el ambiente de R"
      ]
    },
    {
      "cell_type": "code",
      "execution_count": null,
      "metadata": {
        "colab": {
          "base_uri": "https://localhost:8080/",
          "height": 129
        },
        "id": "oZG_4br6szlT",
        "outputId": "f148d994-f753-4709-aa2c-133f2f90f9f2"
      },
      "outputs": [
        {
          "output_type": "display_data",
          "data": {
            "text/html": [
              "<table class=\"dataframe\">\n",
              "<caption>A matrix: 2 × 6 of type dbl</caption>\n",
              "<thead>\n",
              "\t<tr><th></th><th scope=col>used</th><th scope=col>(Mb)</th><th scope=col>gc trigger</th><th scope=col>(Mb)</th><th scope=col>max used</th><th scope=col>(Mb)</th></tr>\n",
              "</thead>\n",
              "<tbody>\n",
              "\t<tr><th scope=row>Ncells</th><td> 803464</td><td>43.0</td><td> 1454471</td><td> 77.7</td><td> 1454471</td><td> 77.7</td></tr>\n",
              "\t<tr><th scope=row>Vcells</th><td>1504788</td><td>11.5</td><td>56777584</td><td>433.2</td><td>70971312</td><td>541.5</td></tr>\n",
              "</tbody>\n",
              "</table>\n"
            ],
            "text/markdown": "\nA matrix: 2 × 6 of type dbl\n\n| <!--/--> | used | (Mb) | gc trigger | (Mb) | max used | (Mb) |\n|---|---|---|---|---|---|---|\n| Ncells |  803464 | 43.0 |  1454471 |  77.7 |  1454471 |  77.7 |\n| Vcells | 1504788 | 11.5 | 56777584 | 433.2 | 70971312 | 541.5 |\n\n",
            "text/latex": "A matrix: 2 × 6 of type dbl\n\\begin{tabular}{r|llllll}\n  & used & (Mb) & gc trigger & (Mb) & max used & (Mb)\\\\\n\\hline\n\tNcells &  803464 & 43.0 &  1454471 &  77.7 &  1454471 &  77.7\\\\\n\tVcells & 1504788 & 11.5 & 56777584 & 433.2 & 70971312 & 541.5\\\\\n\\end{tabular}\n",
            "text/plain": [
              "       used    (Mb) gc trigger (Mb)  max used (Mb) \n",
              "Ncells  803464 43.0  1454471    77.7  1454471  77.7\n",
              "Vcells 1504788 11.5 56777584   433.2 70971312 541.5"
            ]
          },
          "metadata": {}
        }
      ],
      "source": [
        "# limpio la memoria\n",
        "rm(list=ls(all.names=TRUE)) # remove all objects\n",
        "gc(full=TRUE, verbose=FALSE) # garbage collection"
      ]
    },
    {
      "cell_type": "code",
      "execution_count": null,
      "metadata": {
        "id": "JO-12d7YHkWy"
      },
      "outputs": [],
      "source": [
        "# cargo las librerias que necesito\n",
        "require(\"data.table\")\n",
        "require(\"rpart\")\n",
        "require(\"parallel\")\n",
        "if (!require(\"primes\")) install.packages(\"primes\")\n",
        "require(\"primes\")"
      ]
    },
    {
      "cell_type": "markdown",
      "metadata": {
        "id": "0MclPEJ6Q8Bp"
      },
      "source": [
        "Aqui debe poner SU semiila primigenia"
      ]
    },
    {
      "cell_type": "code",
      "execution_count": null,
      "metadata": {
        "id": "Vt5fC6bWHu5r"
      },
      "outputs": [],
      "source": [
        "PARAM <- list()\n",
        "# reemplazar por su primer semilla\n",
        "PARAM$semilla_primigenia <- 533317\n",
        "PARAM$qsemillas <- 1\n",
        "\n",
        "PARAM$training_pct <- 70L  # entre  1L y 99L\n",
        "\n",
        "# elegir SU dataset comentando/ descomentando\n",
        "PARAM$dataset_nom <- \"~/datasets/dataset_pequeno.csv\""
      ]
    },
    {
      "cell_type": "code",
      "execution_count": null,
      "metadata": {
        "id": "Z1dchsrWH4MD"
      },
      "outputs": [],
      "source": [
        "# particionar agrega una columna llamada fold a un dataset\n",
        "#  que consiste en una particion estratificada segun agrupa\n",
        "# particionar( data=dataset, division=c(70,30), agrupa=clase_ternaria, seed=semilla)\n",
        "#   crea una particion 70, 30\n",
        "\n",
        "particionar <- function(data, division, agrupa = \"\", campo = \"fold\", start = 1, seed = NA) {\n",
        "  if (!is.na(seed)) set.seed(seed)\n",
        "\n",
        "  bloque <- unlist(mapply(function(x, y) {\n",
        "    rep(y, x)\n",
        "  }, division, seq(from = start, length.out = length(division))))\n",
        "\n",
        "  data[, (campo) := sample(rep(bloque, ceiling(.N / length(bloque))))[1:.N],\n",
        "    by = agrupa\n",
        "  ]\n",
        "}\n"
      ]
    },
    {
      "cell_type": "code",
      "execution_count": null,
      "metadata": {
        "id": "xsHwS1CzIA70"
      },
      "outputs": [],
      "source": [
        "ArbolEstimarGanancia <- function(semilla, training_pct, param_basicos) {\n",
        "  # particiono estratificadamente el dataset\n",
        "  particionar(dataset,\n",
        "    division = c(training_pct, 100L -training_pct),\n",
        "    agrupa = \"clase_ternaria\",\n",
        "    seed = semilla # aqui se usa SU semilla\n",
        "  )\n",
        "\n",
        "  # genero el modelo\n",
        "  # predecir clase_ternaria a partir del resto\n",
        "  modelo <- rpart(\"clase_ternaria ~ .\",\n",
        "    data = dataset[fold == 1], # fold==1  es training,  el 70% de los datos\n",
        "    xval = 0,\n",
        "    control = param_basicos\n",
        "  ) # aqui van los parametros del arbol\n",
        "\n",
        "  # aplico el modelo a los datos de testing\n",
        "  prediccion <- predict(modelo, # el modelo que genere recien\n",
        "    dataset[fold == 2], # fold==2  es testing, el 30% de los datos\n",
        "    type = \"prob\"\n",
        "  ) # type= \"prob\"  es que devuelva la probabilidad\n",
        "\n",
        "  # prediccion es una matriz con TRES columnas,\n",
        "  #  llamadas \"BAJA+1\", \"BAJA+2\"  y \"CONTINUA\"\n",
        "  # cada columna es el vector de probabilidades\n",
        "\n",
        "\n",
        "  # calculo la ganancia en testing  qu es fold==2\n",
        "  ganancia_test <- dataset[\n",
        "    fold == 2,\n",
        "    sum(ifelse(prediccion[, \"BAJA+2\"] > 0.025,\n",
        "      ifelse(clase_ternaria == \"BAJA+2\", 117000, -3000),\n",
        "      0\n",
        "    ))\n",
        "  ]\n",
        "\n",
        "  # escalo la ganancia como si fuera todo el dataset\n",
        "  ganancia_test_normalizada <- ganancia_test / (( 100 - PARAM$training_pct ) / 100 )\n",
        "\n",
        "  return(\n",
        "    c( list(\"semilla\" = semilla),\n",
        "      param_basicos,\n",
        "      list( \"ganancia_test\" = ganancia_test_normalizada )\n",
        "     )\n",
        "  )\n",
        "}\n"
      ]
    },
    {
      "cell_type": "code",
      "execution_count": null,
      "metadata": {
        "id": "BvBVOuhqIEjD"
      },
      "outputs": [],
      "source": [
        "ArbolesMontecarlo <- function(semillas, param_basicos) {\n",
        "\n",
        "  # la funcion mcmapply  llama a la funcion ArbolEstimarGanancia\n",
        "  #  tantas veces como valores tenga el vector  PARAM$semillas\n",
        "  salida <- mcmapply(ArbolEstimarGanancia,\n",
        "    semillas, # paso el vector de semillas\n",
        "    MoreArgs = list(PARAM$training_pct, param_basicos), # aqui paso el segundo parametro\n",
        "    SIMPLIFY = FALSE,\n",
        "    mc.cores = detectCores()\n",
        "  )\n",
        "\n",
        "  return(salida)\n",
        "}\n"
      ]
    },
    {
      "cell_type": "code",
      "execution_count": null,
      "metadata": {
        "id": "L-DOGHOjIG7G"
      },
      "outputs": [],
      "source": [
        "# carpeta de trabajo\n",
        "# por fabor cambiar numero de experimento si se cambia el loop principal\n",
        "setwd(\"/content/buckets/b1/exp\")\n",
        "experimento <- \"HT2900\"\n",
        "dir.create(experimento, showWarnings=FALSE)\n",
        "setwd( paste0(\"/content/buckets/b1/exp/\", experimento ))"
      ]
    },
    {
      "cell_type": "code",
      "execution_count": null,
      "metadata": {
        "id": "NM-mrLWcIPo6"
      },
      "outputs": [],
      "source": [
        "# lectura del dataset\n",
        "dataset <- fread(\"/content/datasets/dataset_pequeno.csv\")\n",
        "\n",
        "# trabajo solo con los datos con clase, es decir 202107\n",
        "dataset <- dataset[clase_ternaria != \"\"]"
      ]
    },
    {
      "cell_type": "code",
      "execution_count": null,
      "metadata": {
        "id": "tSlY0EcgIWdi"
      },
      "outputs": [],
      "source": [
        "\n",
        "# genero numeros primos\n",
        "primos <- generate_primes(min = 100000, max = 1000000)\n",
        "set.seed(PARAM$semilla_primigenia) # inicializo\n",
        "# me quedo con PARAM$qsemillas   semillas\n",
        "PARAM$semillas <- sample(primos, PARAM$qsemillas )\n"
      ]
    },
    {
      "cell_type": "code",
      "execution_count": null,
      "metadata": {
        "colab": {
          "base_uri": "https://localhost:8080/",
          "height": 34
        },
        "id": "xxCAwIKyIaTl",
        "outputId": "f045dfcd-bac6-4095-9176-7895c5eaa989"
      },
      "outputs": [
        {
          "output_type": "display_data",
          "data": {
            "text/html": [
              "450"
            ],
            "text/markdown": "450",
            "text/latex": "450",
            "text/plain": [
              "[1] 450"
            ]
          },
          "metadata": {}
        }
      ],
      "source": [
        "# genero la data.table donde van los resultados detallados del Grid Search\n",
        "# un registro para cada combinacion de < semilla, parametros >\n",
        "\n",
        "if(file.exists(\"gridsearch_detalle.txt\")){\n",
        "  tb_grid_search_detalle <- fread(\"gridsearch_detalle.txt\")\n",
        "}else{\n",
        "  tb_grid_search_detalle <- data.table(\n",
        "    semilla = integer(),\n",
        "    cp = numeric(),\n",
        "    maxdepth = integer(),\n",
        "   minsplit = integer(),\n",
        "    minbucket = integer(),\n",
        "    ganancia_test = numeric()\n",
        "  )\n",
        "}\n",
        "\n",
        "nrow( tb_grid_search_detalle )"
      ]
    },
    {
      "cell_type": "markdown",
      "metadata": {
        "id": "eAuGBNL8IkOD"
      },
      "source": [
        "Esta es la parte del código que usted debe expandir a TODOS los hiperparámetros de rpart,\n",
        "<br>ya que actualmente apenas recorre  maxdepth y  minsplit  dejando fijos  cp=-0.5  y minbucket=5"
      ]
    },
    {
      "cell_type": "code",
      "execution_count": null,
      "metadata": {
        "colab": {
          "base_uri": "https://localhost:8080/"
        },
        "id": "WZaSqYBxiDFu",
        "outputId": "283c6c6b-8ef4-4c2e-8fed-c88329a5c556"
      },
      "outputs": [
        {
          "output_type": "stream",
          "name": "stdout",
          "text": [
            "1  2  3  4  5  6  7  8  9  10  11  12  13  14  15  16  17  18  19  20  21  22  23  24  25  26  27  28  29  30  31  32  33  34  35  36  37  38  39  40  41  42  43  44  45  46  47  48  49  50  51  52  53  54  55  56  57  58  59  60  61  62  63  64  65  66  67  68  69  70  71  72  73  74  75  76  77  78  79  80  81  82  83  84  85  86  87  88  89  90  91  92  93  94  95  96  97  98  99  100  101  102  103  104  105  106  107  108  109  110  111  112  113  114  115  116  117  118  119  120  121  122  123  124  125  126  127  128  129  130  131  132  133  134  135  136  137  138  139  140  141  142  143  144  145  146  147  148  149  150  151  152  153  154  155  156  157  158  159  160  161  162  163  164  165  166  167  168  169  170  171  172  173  174  175  176  177  178  179  180  181  182  183  184  185  186  187  188  189  190  191  192  193  194  195  196  197  198  199  200  201  202  203  204  205  206  207  208  209  210  211  212  213  214  215  216  217  218  219  220  221  222  223  224  225  226  227  228  229  230  231  232  233  234  235  236  237  238  239  240  241  242  243  244  245  246  247  248  249  250  251  252  253  254  255  256  257  258  259  260  261  262  263  264  265  266  267  268  269  270  271  272  273  274  275  276  277  278  279  280  281  282  283  284  285  286  287  288  289  290  291  292  293  294  295  296  297  298  299  300  301  302  303  304  305  306  307  308  309  310  311  312  313  314  315  316  317  318  319  320  321  322  323  324  325  326  327  328  329  330  331  332  333  334  335  336  337  338  339  340  341  342  343  344  345  346  347  348  349  350  351  352  353  354  355  356  357  358  359  360  361  362  363  364  365  366  367  368  369  370  371  372  373  374  375  376  377  378  379  380  381  382  383  384  385  386  387  388  389  390  391  392  393  394  395  396  397  398  399  400  401  402  403  404  405  406  407  408  409  410  411  412  413  414  415  416  417  418  419  420  421  422  423  424  425  426  427  428  429  430  431  432  433  434  435  436  437  438  439  440  441  442  443  444  445  446  447  448  449  450  451  452  453  454  455  456  457  458  459  460  461  462  463  464  465  466  467  468  469  470  471  472  473  474  475  476  477  478  479  480  481  482  483  484  485  486  487  488  489  490  491  492  493  494  495  496  497  498  499  500  501  502  503  504  505  506  507  508  509  510  511  512  513  514  515  516  517  518  519  520  521  522  523  524  525  526  527  528  529  530  531  532  533  534  535  536  537  538  539  540  541  542  543  544  545  546  547  548  549  550  551  552  553  554  555  556  557  558  559  560  561  562  563  564  565  566  567  568  569  570  571  572  573  574  575  \n",
            "Combinaciones efectivas procesadas (≈):  575 \n"
          ]
        }
      ],
      "source": [
        "# ======================================================\n",
        "# GRID SEARCH con 4 hiperparámetros y misma salida que tu código\n",
        "# - Mantiene: iter, cat/flush, checkpoint con PARAM$qsemillas,\n",
        "#   acumulación en tb_grid_search_detalle y fwrite por loop externo (maxdepth)\n",
        "# - Tamaño de grilla: 500 brutas -> 450 válidas (coherencia minbucket<=minsplit/2)\n",
        "# ======================================================\n",
        "\n",
        "iter <- 0\n",
        "\n",
        "cp_vals        <- c(-0.001, -0.05, -0.01, 0, 0.001)   # 5 valores (incluye negativos)\n",
        "maxdepth_vals  <- c(6, 8, 10, 12, 14)               # 5 valores\n",
        "minsplit_vals  <- c(50, 100, 200, 400, 600)              # 4 valores\n",
        "minbucket_vals <- c(5, 10, 20, 30, 40)              # 5 valores\n",
        "\n",
        "for (vmax_depth in maxdepth_vals) {                       # loop externo = igual que tu código\n",
        "  for (vcp in cp_vals) {                                  # ahora cp también barre\n",
        "    for (vmin_split in minsplit_vals) {\n",
        "      for (vmin_bucket in minbucket_vals) {\n",
        "\n",
        "        # coherencia básica: si no se cumple, salteamos (esto deja 450 combinaciones)\n",
        "        if (vmin_bucket > floor(vmin_split / 2)) next\n",
        "\n",
        "        iter <- iter + 1\n",
        "        cat(iter, \" \")\n",
        "        flush.console()\n",
        "\n",
        "        # checkpoint para reanudar (idéntico al tuyo)\n",
        "        if (iter * PARAM$qsemillas < nrow(tb_grid_search_detalle) + 1) next\n",
        "\n",
        "        # armo lista de hiperparámetros (idéntico a tu esquema)\n",
        "        param_basicos <- list(\n",
        "          \"cp\"        = vcp,          # complejidad (negativos permitidos como pediste)\n",
        "          \"maxdepth\"  = vmax_depth,   # profundidad máxima\n",
        "          \"minsplit\"  = vmin_split,   # mínimo de registros para split\n",
        "          \"minbucket\" = vmin_bucket   # mínimo de registros en hoja\n",
        "        )\n",
        "\n",
        "        # corre Montecarlo con tus semillas y devuelve data.tables ya uniformadas\n",
        "        ganancias <- ArbolesMontecarlo(PARAM$semillas, param_basicos)\n",
        "\n",
        "        # acumula resultados en la misma tabla de detalle (igual que tu código)\n",
        "        tb_grid_search_detalle <- rbindlist(\n",
        "          list(tb_grid_search_detalle, rbindlist(ganancias)),\n",
        "          use.names = TRUE, fill = TRUE\n",
        "        )\n",
        "      }\n",
        "    }\n",
        "  }\n",
        "\n",
        "  # grabar en el loop más externo (maxdepth), como en tu código original\n",
        "  fwrite(tb_grid_search_detalle,\n",
        "         file = \"gridsearch_detalle.txt\",\n",
        "         sep = \"\\t\")\n",
        "}\n",
        "\n",
        "cat(\"\\nCombinaciones efectivas procesadas (≈): \", iter, \"\\n\")\n",
        "\n"
      ]
    },
    {
      "cell_type": "code",
      "execution_count": null,
      "metadata": {
        "colab": {
          "base_uri": "https://localhost:8080/",
          "height": 34
        },
        "id": "STp0duM-RYVJ",
        "outputId": "5e44b174-41b6-40c3-8ad9-324047cff997"
      },
      "outputs": [
        {
          "output_type": "display_data",
          "data": {
            "text/html": [
              "575"
            ],
            "text/markdown": "575",
            "text/latex": "575",
            "text/plain": [
              "[1] 575"
            ]
          },
          "metadata": {}
        }
      ],
      "source": [
        "# cantidad de registros de la tabla\n",
        "nrow(tb_grid_search_detalle)"
      ]
    },
    {
      "cell_type": "code",
      "execution_count": null,
      "metadata": {
        "colab": {
          "base_uri": "https://localhost:8080/",
          "height": 1000
        },
        "id": "k7fhk_H0iNez",
        "outputId": "e8bd8b9b-7d78-4ded-d4c8-f308452c3c9b"
      },
      "outputs": [
        {
          "output_type": "display_data",
          "data": {
            "text/html": [
              "<table class=\"dataframe\">\n",
              "<caption>A data.table: 575 × 6</caption>\n",
              "<thead>\n",
              "\t<tr><th scope=col>semilla</th><th scope=col>cp</th><th scope=col>maxdepth</th><th scope=col>minsplit</th><th scope=col>minbucket</th><th scope=col>ganancia_test</th></tr>\n",
              "\t<tr><th scope=col>&lt;int&gt;</th><th scope=col>&lt;dbl&gt;</th><th scope=col>&lt;dbl&gt;</th><th scope=col>&lt;dbl&gt;</th><th scope=col>&lt;dbl&gt;</th><th scope=col>&lt;dbl&gt;</th></tr>\n",
              "</thead>\n",
              "<tbody>\n",
              "\t<tr><td>857221</td><td>-0.10</td><td>6</td><td> 50</td><td> 5</td><td>41910000</td></tr>\n",
              "\t<tr><td>857221</td><td>-0.10</td><td>6</td><td> 50</td><td>10</td><td>44750000</td></tr>\n",
              "\t<tr><td>857221</td><td>-0.10</td><td>6</td><td> 50</td><td>20</td><td>42870000</td></tr>\n",
              "\t<tr><td>857221</td><td>-0.10</td><td>6</td><td>100</td><td> 5</td><td>42530000</td></tr>\n",
              "\t<tr><td>857221</td><td>-0.10</td><td>6</td><td>100</td><td>10</td><td>44520000</td></tr>\n",
              "\t<tr><td>857221</td><td>-0.10</td><td>6</td><td>100</td><td>20</td><td>42600000</td></tr>\n",
              "\t<tr><td>857221</td><td>-0.10</td><td>6</td><td>100</td><td>30</td><td>41180000</td></tr>\n",
              "\t<tr><td>857221</td><td>-0.10</td><td>6</td><td>100</td><td>40</td><td>39560000</td></tr>\n",
              "\t<tr><td>857221</td><td>-0.10</td><td>6</td><td>200</td><td> 5</td><td>42530000</td></tr>\n",
              "\t<tr><td>857221</td><td>-0.10</td><td>6</td><td>200</td><td>10</td><td>44520000</td></tr>\n",
              "\t<tr><td>857221</td><td>-0.10</td><td>6</td><td>200</td><td>20</td><td>43400000</td></tr>\n",
              "\t<tr><td>857221</td><td>-0.10</td><td>6</td><td>200</td><td>30</td><td>42080000</td></tr>\n",
              "\t<tr><td>857221</td><td>-0.10</td><td>6</td><td>200</td><td>40</td><td>40460000</td></tr>\n",
              "\t<tr><td>857221</td><td>-0.10</td><td>6</td><td>400</td><td> 5</td><td>42530000</td></tr>\n",
              "\t<tr><td>857221</td><td>-0.10</td><td>6</td><td>400</td><td>10</td><td>45670000</td></tr>\n",
              "\t<tr><td>857221</td><td>-0.10</td><td>6</td><td>400</td><td>20</td><td>43400000</td></tr>\n",
              "\t<tr><td>857221</td><td>-0.10</td><td>6</td><td>400</td><td>30</td><td>41590000</td></tr>\n",
              "\t<tr><td>857221</td><td>-0.10</td><td>6</td><td>400</td><td>40</td><td>39970000</td></tr>\n",
              "\t<tr><td>857221</td><td>-0.05</td><td>6</td><td> 50</td><td> 5</td><td>41910000</td></tr>\n",
              "\t<tr><td>857221</td><td>-0.05</td><td>6</td><td> 50</td><td>10</td><td>44750000</td></tr>\n",
              "\t<tr><td>857221</td><td>-0.05</td><td>6</td><td> 50</td><td>20</td><td>42870000</td></tr>\n",
              "\t<tr><td>857221</td><td>-0.05</td><td>6</td><td>100</td><td> 5</td><td>42530000</td></tr>\n",
              "\t<tr><td>857221</td><td>-0.05</td><td>6</td><td>100</td><td>10</td><td>44520000</td></tr>\n",
              "\t<tr><td>857221</td><td>-0.05</td><td>6</td><td>100</td><td>20</td><td>42600000</td></tr>\n",
              "\t<tr><td>857221</td><td>-0.05</td><td>6</td><td>100</td><td>30</td><td>41180000</td></tr>\n",
              "\t<tr><td>857221</td><td>-0.05</td><td>6</td><td>100</td><td>40</td><td>39560000</td></tr>\n",
              "\t<tr><td>857221</td><td>-0.05</td><td>6</td><td>200</td><td> 5</td><td>42530000</td></tr>\n",
              "\t<tr><td>857221</td><td>-0.05</td><td>6</td><td>200</td><td>10</td><td>44520000</td></tr>\n",
              "\t<tr><td>857221</td><td>-0.05</td><td>6</td><td>200</td><td>20</td><td>43400000</td></tr>\n",
              "\t<tr><td>857221</td><td>-0.05</td><td>6</td><td>200</td><td>30</td><td>42080000</td></tr>\n",
              "\t<tr><td>⋮</td><td>⋮</td><td>⋮</td><td>⋮</td><td>⋮</td><td>⋮</td></tr>\n",
              "\t<tr><td>857221</td><td>0.000</td><td>14</td><td>400</td><td>30</td><td>       0</td></tr>\n",
              "\t<tr><td>857221</td><td>0.000</td><td>14</td><td>400</td><td>40</td><td>       0</td></tr>\n",
              "\t<tr><td>857221</td><td>0.000</td><td>14</td><td>600</td><td> 5</td><td>49330000</td></tr>\n",
              "\t<tr><td>857221</td><td>0.000</td><td>14</td><td>600</td><td>10</td><td>       0</td></tr>\n",
              "\t<tr><td>857221</td><td>0.000</td><td>14</td><td>600</td><td>20</td><td>       0</td></tr>\n",
              "\t<tr><td>857221</td><td>0.000</td><td>14</td><td>600</td><td>30</td><td>       0</td></tr>\n",
              "\t<tr><td>857221</td><td>0.000</td><td>14</td><td>600</td><td>40</td><td>       0</td></tr>\n",
              "\t<tr><td>857221</td><td>0.001</td><td>14</td><td> 50</td><td> 5</td><td>       0</td></tr>\n",
              "\t<tr><td>857221</td><td>0.001</td><td>14</td><td> 50</td><td>10</td><td>       0</td></tr>\n",
              "\t<tr><td>857221</td><td>0.001</td><td>14</td><td> 50</td><td>20</td><td>41170000</td></tr>\n",
              "\t<tr><td>857221</td><td>0.001</td><td>14</td><td>100</td><td> 5</td><td>       0</td></tr>\n",
              "\t<tr><td>857221</td><td>0.001</td><td>14</td><td>100</td><td>10</td><td>       0</td></tr>\n",
              "\t<tr><td>857221</td><td>0.001</td><td>14</td><td>100</td><td>20</td><td>       0</td></tr>\n",
              "\t<tr><td>857221</td><td>0.001</td><td>14</td><td>100</td><td>30</td><td>       0</td></tr>\n",
              "\t<tr><td>857221</td><td>0.001</td><td>14</td><td>100</td><td>40</td><td>       0</td></tr>\n",
              "\t<tr><td>857221</td><td>0.001</td><td>14</td><td>200</td><td> 5</td><td>       0</td></tr>\n",
              "\t<tr><td>857221</td><td>0.001</td><td>14</td><td>200</td><td>10</td><td>       0</td></tr>\n",
              "\t<tr><td>857221</td><td>0.001</td><td>14</td><td>200</td><td>20</td><td>       0</td></tr>\n",
              "\t<tr><td>857221</td><td>0.001</td><td>14</td><td>200</td><td>30</td><td>       0</td></tr>\n",
              "\t<tr><td>857221</td><td>0.001</td><td>14</td><td>200</td><td>40</td><td>       0</td></tr>\n",
              "\t<tr><td>857221</td><td>0.001</td><td>14</td><td>400</td><td> 5</td><td>       0</td></tr>\n",
              "\t<tr><td>857221</td><td>0.001</td><td>14</td><td>400</td><td>10</td><td>       0</td></tr>\n",
              "\t<tr><td>857221</td><td>0.001</td><td>14</td><td>400</td><td>20</td><td>       0</td></tr>\n",
              "\t<tr><td>857221</td><td>0.001</td><td>14</td><td>400</td><td>30</td><td>       0</td></tr>\n",
              "\t<tr><td>857221</td><td>0.001</td><td>14</td><td>400</td><td>40</td><td>       0</td></tr>\n",
              "\t<tr><td>857221</td><td>0.001</td><td>14</td><td>600</td><td> 5</td><td>       0</td></tr>\n",
              "\t<tr><td>857221</td><td>0.001</td><td>14</td><td>600</td><td>10</td><td>       0</td></tr>\n",
              "\t<tr><td>857221</td><td>0.001</td><td>14</td><td>600</td><td>20</td><td>       0</td></tr>\n",
              "\t<tr><td>857221</td><td>0.001</td><td>14</td><td>600</td><td>30</td><td>       0</td></tr>\n",
              "\t<tr><td>857221</td><td>0.001</td><td>14</td><td>600</td><td>40</td><td>       0</td></tr>\n",
              "</tbody>\n",
              "</table>\n"
            ],
            "text/markdown": "\nA data.table: 575 × 6\n\n| semilla &lt;int&gt; | cp &lt;dbl&gt; | maxdepth &lt;dbl&gt; | minsplit &lt;dbl&gt; | minbucket &lt;dbl&gt; | ganancia_test &lt;dbl&gt; |\n|---|---|---|---|---|---|\n| 857221 | -0.10 | 6 |  50 |  5 | 41910000 |\n| 857221 | -0.10 | 6 |  50 | 10 | 44750000 |\n| 857221 | -0.10 | 6 |  50 | 20 | 42870000 |\n| 857221 | -0.10 | 6 | 100 |  5 | 42530000 |\n| 857221 | -0.10 | 6 | 100 | 10 | 44520000 |\n| 857221 | -0.10 | 6 | 100 | 20 | 42600000 |\n| 857221 | -0.10 | 6 | 100 | 30 | 41180000 |\n| 857221 | -0.10 | 6 | 100 | 40 | 39560000 |\n| 857221 | -0.10 | 6 | 200 |  5 | 42530000 |\n| 857221 | -0.10 | 6 | 200 | 10 | 44520000 |\n| 857221 | -0.10 | 6 | 200 | 20 | 43400000 |\n| 857221 | -0.10 | 6 | 200 | 30 | 42080000 |\n| 857221 | -0.10 | 6 | 200 | 40 | 40460000 |\n| 857221 | -0.10 | 6 | 400 |  5 | 42530000 |\n| 857221 | -0.10 | 6 | 400 | 10 | 45670000 |\n| 857221 | -0.10 | 6 | 400 | 20 | 43400000 |\n| 857221 | -0.10 | 6 | 400 | 30 | 41590000 |\n| 857221 | -0.10 | 6 | 400 | 40 | 39970000 |\n| 857221 | -0.05 | 6 |  50 |  5 | 41910000 |\n| 857221 | -0.05 | 6 |  50 | 10 | 44750000 |\n| 857221 | -0.05 | 6 |  50 | 20 | 42870000 |\n| 857221 | -0.05 | 6 | 100 |  5 | 42530000 |\n| 857221 | -0.05 | 6 | 100 | 10 | 44520000 |\n| 857221 | -0.05 | 6 | 100 | 20 | 42600000 |\n| 857221 | -0.05 | 6 | 100 | 30 | 41180000 |\n| 857221 | -0.05 | 6 | 100 | 40 | 39560000 |\n| 857221 | -0.05 | 6 | 200 |  5 | 42530000 |\n| 857221 | -0.05 | 6 | 200 | 10 | 44520000 |\n| 857221 | -0.05 | 6 | 200 | 20 | 43400000 |\n| 857221 | -0.05 | 6 | 200 | 30 | 42080000 |\n| ⋮ | ⋮ | ⋮ | ⋮ | ⋮ | ⋮ |\n| 857221 | 0.000 | 14 | 400 | 30 |        0 |\n| 857221 | 0.000 | 14 | 400 | 40 |        0 |\n| 857221 | 0.000 | 14 | 600 |  5 | 49330000 |\n| 857221 | 0.000 | 14 | 600 | 10 |        0 |\n| 857221 | 0.000 | 14 | 600 | 20 |        0 |\n| 857221 | 0.000 | 14 | 600 | 30 |        0 |\n| 857221 | 0.000 | 14 | 600 | 40 |        0 |\n| 857221 | 0.001 | 14 |  50 |  5 |        0 |\n| 857221 | 0.001 | 14 |  50 | 10 |        0 |\n| 857221 | 0.001 | 14 |  50 | 20 | 41170000 |\n| 857221 | 0.001 | 14 | 100 |  5 |        0 |\n| 857221 | 0.001 | 14 | 100 | 10 |        0 |\n| 857221 | 0.001 | 14 | 100 | 20 |        0 |\n| 857221 | 0.001 | 14 | 100 | 30 |        0 |\n| 857221 | 0.001 | 14 | 100 | 40 |        0 |\n| 857221 | 0.001 | 14 | 200 |  5 |        0 |\n| 857221 | 0.001 | 14 | 200 | 10 |        0 |\n| 857221 | 0.001 | 14 | 200 | 20 |        0 |\n| 857221 | 0.001 | 14 | 200 | 30 |        0 |\n| 857221 | 0.001 | 14 | 200 | 40 |        0 |\n| 857221 | 0.001 | 14 | 400 |  5 |        0 |\n| 857221 | 0.001 | 14 | 400 | 10 |        0 |\n| 857221 | 0.001 | 14 | 400 | 20 |        0 |\n| 857221 | 0.001 | 14 | 400 | 30 |        0 |\n| 857221 | 0.001 | 14 | 400 | 40 |        0 |\n| 857221 | 0.001 | 14 | 600 |  5 |        0 |\n| 857221 | 0.001 | 14 | 600 | 10 |        0 |\n| 857221 | 0.001 | 14 | 600 | 20 |        0 |\n| 857221 | 0.001 | 14 | 600 | 30 |        0 |\n| 857221 | 0.001 | 14 | 600 | 40 |        0 |\n\n",
            "text/latex": "A data.table: 575 × 6\n\\begin{tabular}{llllll}\n semilla & cp & maxdepth & minsplit & minbucket & ganancia\\_test\\\\\n <int> & <dbl> & <dbl> & <dbl> & <dbl> & <dbl>\\\\\n\\hline\n\t 857221 & -0.10 & 6 &  50 &  5 & 41910000\\\\\n\t 857221 & -0.10 & 6 &  50 & 10 & 44750000\\\\\n\t 857221 & -0.10 & 6 &  50 & 20 & 42870000\\\\\n\t 857221 & -0.10 & 6 & 100 &  5 & 42530000\\\\\n\t 857221 & -0.10 & 6 & 100 & 10 & 44520000\\\\\n\t 857221 & -0.10 & 6 & 100 & 20 & 42600000\\\\\n\t 857221 & -0.10 & 6 & 100 & 30 & 41180000\\\\\n\t 857221 & -0.10 & 6 & 100 & 40 & 39560000\\\\\n\t 857221 & -0.10 & 6 & 200 &  5 & 42530000\\\\\n\t 857221 & -0.10 & 6 & 200 & 10 & 44520000\\\\\n\t 857221 & -0.10 & 6 & 200 & 20 & 43400000\\\\\n\t 857221 & -0.10 & 6 & 200 & 30 & 42080000\\\\\n\t 857221 & -0.10 & 6 & 200 & 40 & 40460000\\\\\n\t 857221 & -0.10 & 6 & 400 &  5 & 42530000\\\\\n\t 857221 & -0.10 & 6 & 400 & 10 & 45670000\\\\\n\t 857221 & -0.10 & 6 & 400 & 20 & 43400000\\\\\n\t 857221 & -0.10 & 6 & 400 & 30 & 41590000\\\\\n\t 857221 & -0.10 & 6 & 400 & 40 & 39970000\\\\\n\t 857221 & -0.05 & 6 &  50 &  5 & 41910000\\\\\n\t 857221 & -0.05 & 6 &  50 & 10 & 44750000\\\\\n\t 857221 & -0.05 & 6 &  50 & 20 & 42870000\\\\\n\t 857221 & -0.05 & 6 & 100 &  5 & 42530000\\\\\n\t 857221 & -0.05 & 6 & 100 & 10 & 44520000\\\\\n\t 857221 & -0.05 & 6 & 100 & 20 & 42600000\\\\\n\t 857221 & -0.05 & 6 & 100 & 30 & 41180000\\\\\n\t 857221 & -0.05 & 6 & 100 & 40 & 39560000\\\\\n\t 857221 & -0.05 & 6 & 200 &  5 & 42530000\\\\\n\t 857221 & -0.05 & 6 & 200 & 10 & 44520000\\\\\n\t 857221 & -0.05 & 6 & 200 & 20 & 43400000\\\\\n\t 857221 & -0.05 & 6 & 200 & 30 & 42080000\\\\\n\t ⋮ & ⋮ & ⋮ & ⋮ & ⋮ & ⋮\\\\\n\t 857221 & 0.000 & 14 & 400 & 30 &        0\\\\\n\t 857221 & 0.000 & 14 & 400 & 40 &        0\\\\\n\t 857221 & 0.000 & 14 & 600 &  5 & 49330000\\\\\n\t 857221 & 0.000 & 14 & 600 & 10 &        0\\\\\n\t 857221 & 0.000 & 14 & 600 & 20 &        0\\\\\n\t 857221 & 0.000 & 14 & 600 & 30 &        0\\\\\n\t 857221 & 0.000 & 14 & 600 & 40 &        0\\\\\n\t 857221 & 0.001 & 14 &  50 &  5 &        0\\\\\n\t 857221 & 0.001 & 14 &  50 & 10 &        0\\\\\n\t 857221 & 0.001 & 14 &  50 & 20 & 41170000\\\\\n\t 857221 & 0.001 & 14 & 100 &  5 &        0\\\\\n\t 857221 & 0.001 & 14 & 100 & 10 &        0\\\\\n\t 857221 & 0.001 & 14 & 100 & 20 &        0\\\\\n\t 857221 & 0.001 & 14 & 100 & 30 &        0\\\\\n\t 857221 & 0.001 & 14 & 100 & 40 &        0\\\\\n\t 857221 & 0.001 & 14 & 200 &  5 &        0\\\\\n\t 857221 & 0.001 & 14 & 200 & 10 &        0\\\\\n\t 857221 & 0.001 & 14 & 200 & 20 &        0\\\\\n\t 857221 & 0.001 & 14 & 200 & 30 &        0\\\\\n\t 857221 & 0.001 & 14 & 200 & 40 &        0\\\\\n\t 857221 & 0.001 & 14 & 400 &  5 &        0\\\\\n\t 857221 & 0.001 & 14 & 400 & 10 &        0\\\\\n\t 857221 & 0.001 & 14 & 400 & 20 &        0\\\\\n\t 857221 & 0.001 & 14 & 400 & 30 &        0\\\\\n\t 857221 & 0.001 & 14 & 400 & 40 &        0\\\\\n\t 857221 & 0.001 & 14 & 600 &  5 &        0\\\\\n\t 857221 & 0.001 & 14 & 600 & 10 &        0\\\\\n\t 857221 & 0.001 & 14 & 600 & 20 &        0\\\\\n\t 857221 & 0.001 & 14 & 600 & 30 &        0\\\\\n\t 857221 & 0.001 & 14 & 600 & 40 &        0\\\\\n\\end{tabular}\n",
            "text/plain": [
              "    semilla cp    maxdepth minsplit minbucket ganancia_test\n",
              "1   857221  -0.10 6         50       5        41910000     \n",
              "2   857221  -0.10 6         50      10        44750000     \n",
              "3   857221  -0.10 6         50      20        42870000     \n",
              "4   857221  -0.10 6        100       5        42530000     \n",
              "5   857221  -0.10 6        100      10        44520000     \n",
              "6   857221  -0.10 6        100      20        42600000     \n",
              "7   857221  -0.10 6        100      30        41180000     \n",
              "8   857221  -0.10 6        100      40        39560000     \n",
              "9   857221  -0.10 6        200       5        42530000     \n",
              "10  857221  -0.10 6        200      10        44520000     \n",
              "11  857221  -0.10 6        200      20        43400000     \n",
              "12  857221  -0.10 6        200      30        42080000     \n",
              "13  857221  -0.10 6        200      40        40460000     \n",
              "14  857221  -0.10 6        400       5        42530000     \n",
              "15  857221  -0.10 6        400      10        45670000     \n",
              "16  857221  -0.10 6        400      20        43400000     \n",
              "17  857221  -0.10 6        400      30        41590000     \n",
              "18  857221  -0.10 6        400      40        39970000     \n",
              "19  857221  -0.05 6         50       5        41910000     \n",
              "20  857221  -0.05 6         50      10        44750000     \n",
              "21  857221  -0.05 6         50      20        42870000     \n",
              "22  857221  -0.05 6        100       5        42530000     \n",
              "23  857221  -0.05 6        100      10        44520000     \n",
              "24  857221  -0.05 6        100      20        42600000     \n",
              "25  857221  -0.05 6        100      30        41180000     \n",
              "26  857221  -0.05 6        100      40        39560000     \n",
              "27  857221  -0.05 6        200       5        42530000     \n",
              "28  857221  -0.05 6        200      10        44520000     \n",
              "29  857221  -0.05 6        200      20        43400000     \n",
              "30  857221  -0.05 6        200      30        42080000     \n",
              "⋮   ⋮       ⋮     ⋮        ⋮        ⋮         ⋮            \n",
              "546 857221  0.000 14       400      30               0     \n",
              "547 857221  0.000 14       400      40               0     \n",
              "548 857221  0.000 14       600       5        49330000     \n",
              "549 857221  0.000 14       600      10               0     \n",
              "550 857221  0.000 14       600      20               0     \n",
              "551 857221  0.000 14       600      30               0     \n",
              "552 857221  0.000 14       600      40               0     \n",
              "553 857221  0.001 14        50       5               0     \n",
              "554 857221  0.001 14        50      10               0     \n",
              "555 857221  0.001 14        50      20        41170000     \n",
              "556 857221  0.001 14       100       5               0     \n",
              "557 857221  0.001 14       100      10               0     \n",
              "558 857221  0.001 14       100      20               0     \n",
              "559 857221  0.001 14       100      30               0     \n",
              "560 857221  0.001 14       100      40               0     \n",
              "561 857221  0.001 14       200       5               0     \n",
              "562 857221  0.001 14       200      10               0     \n",
              "563 857221  0.001 14       200      20               0     \n",
              "564 857221  0.001 14       200      30               0     \n",
              "565 857221  0.001 14       200      40               0     \n",
              "566 857221  0.001 14       400       5               0     \n",
              "567 857221  0.001 14       400      10               0     \n",
              "568 857221  0.001 14       400      20               0     \n",
              "569 857221  0.001 14       400      30               0     \n",
              "570 857221  0.001 14       400      40               0     \n",
              "571 857221  0.001 14       600       5               0     \n",
              "572 857221  0.001 14       600      10               0     \n",
              "573 857221  0.001 14       600      20               0     \n",
              "574 857221  0.001 14       600      30               0     \n",
              "575 857221  0.001 14       600      40               0     "
            ]
          },
          "metadata": {}
        }
      ],
      "source": [
        "# muestro la tabla\n",
        "tb_grid_search_detalle"
      ]
    },
    {
      "cell_type": "code",
      "execution_count": null,
      "metadata": {
        "id": "DjCxtx8bIsgl"
      },
      "outputs": [],
      "source": [
        "# genero y grabo el resumen\n",
        "tb_grid_search <- tb_grid_search_detalle[,\n",
        "  list( \"ganancia_mean\" = mean(ganancia_test),\n",
        "    \"qty\" = .N ),\n",
        "  list( cp, maxdepth, minsplit, minbucket )\n",
        "]\n"
      ]
    },
    {
      "cell_type": "code",
      "execution_count": null,
      "metadata": {
        "id": "LU29UhL1Ivg5"
      },
      "outputs": [],
      "source": [
        "# ordeno descendente por ganancia\n",
        "setorder( tb_grid_search, -ganancia_mean )\n"
      ]
    },
    {
      "cell_type": "code",
      "execution_count": null,
      "metadata": {
        "colab": {
          "base_uri": "https://localhost:8080/",
          "height": 411
        },
        "id": "g-EjGY7aIyWL",
        "outputId": "6b88b9c0-23eb-496a-e379-26aff883de56"
      },
      "outputs": [
        {
          "output_type": "display_data",
          "data": {
            "text/html": [
              "<table class=\"dataframe\">\n",
              "<caption>A data.table: 10 × 6</caption>\n",
              "<thead>\n",
              "\t<tr><th scope=col>cp</th><th scope=col>maxdepth</th><th scope=col>minsplit</th><th scope=col>minbucket</th><th scope=col>ganancia_mean</th><th scope=col>qty</th></tr>\n",
              "\t<tr><th scope=col>&lt;dbl&gt;</th><th scope=col>&lt;dbl&gt;</th><th scope=col>&lt;dbl&gt;</th><th scope=col>&lt;dbl&gt;</th><th scope=col>&lt;dbl&gt;</th><th scope=col>&lt;int&gt;</th></tr>\n",
              "</thead>\n",
              "<tbody>\n",
              "\t<tr><td> 0.000</td><td>12</td><td>400</td><td> 5</td><td>49330000</td><td>1</td></tr>\n",
              "\t<tr><td> 0.000</td><td>14</td><td>400</td><td> 5</td><td>49330000</td><td>2</td></tr>\n",
              "\t<tr><td> 0.000</td><td>14</td><td>600</td><td> 5</td><td>49330000</td><td>1</td></tr>\n",
              "\t<tr><td> 0.000</td><td> 6</td><td>400</td><td> 5</td><td>49300000</td><td>1</td></tr>\n",
              "\t<tr><td> 0.000</td><td> 8</td><td>400</td><td> 5</td><td>49300000</td><td>1</td></tr>\n",
              "\t<tr><td> 0.000</td><td>10</td><td>400</td><td> 5</td><td>49300000</td><td>1</td></tr>\n",
              "\t<tr><td>-0.100</td><td> 8</td><td>400</td><td>10</td><td>47070000</td><td>1</td></tr>\n",
              "\t<tr><td>-0.050</td><td> 8</td><td>400</td><td>10</td><td>47070000</td><td>1</td></tr>\n",
              "\t<tr><td>-0.010</td><td> 8</td><td>400</td><td>10</td><td>47070000</td><td>1</td></tr>\n",
              "\t<tr><td>-0.001</td><td>14</td><td>600</td><td>10</td><td>46130000</td><td>1</td></tr>\n",
              "</tbody>\n",
              "</table>\n"
            ],
            "text/markdown": "\nA data.table: 10 × 6\n\n| cp &lt;dbl&gt; | maxdepth &lt;dbl&gt; | minsplit &lt;dbl&gt; | minbucket &lt;dbl&gt; | ganancia_mean &lt;dbl&gt; | qty &lt;int&gt; |\n|---|---|---|---|---|---|\n|  0.000 | 12 | 400 |  5 | 49330000 | 1 |\n|  0.000 | 14 | 400 |  5 | 49330000 | 2 |\n|  0.000 | 14 | 600 |  5 | 49330000 | 1 |\n|  0.000 |  6 | 400 |  5 | 49300000 | 1 |\n|  0.000 |  8 | 400 |  5 | 49300000 | 1 |\n|  0.000 | 10 | 400 |  5 | 49300000 | 1 |\n| -0.100 |  8 | 400 | 10 | 47070000 | 1 |\n| -0.050 |  8 | 400 | 10 | 47070000 | 1 |\n| -0.010 |  8 | 400 | 10 | 47070000 | 1 |\n| -0.001 | 14 | 600 | 10 | 46130000 | 1 |\n\n",
            "text/latex": "A data.table: 10 × 6\n\\begin{tabular}{llllll}\n cp & maxdepth & minsplit & minbucket & ganancia\\_mean & qty\\\\\n <dbl> & <dbl> & <dbl> & <dbl> & <dbl> & <int>\\\\\n\\hline\n\t  0.000 & 12 & 400 &  5 & 49330000 & 1\\\\\n\t  0.000 & 14 & 400 &  5 & 49330000 & 2\\\\\n\t  0.000 & 14 & 600 &  5 & 49330000 & 1\\\\\n\t  0.000 &  6 & 400 &  5 & 49300000 & 1\\\\\n\t  0.000 &  8 & 400 &  5 & 49300000 & 1\\\\\n\t  0.000 & 10 & 400 &  5 & 49300000 & 1\\\\\n\t -0.100 &  8 & 400 & 10 & 47070000 & 1\\\\\n\t -0.050 &  8 & 400 & 10 & 47070000 & 1\\\\\n\t -0.010 &  8 & 400 & 10 & 47070000 & 1\\\\\n\t -0.001 & 14 & 600 & 10 & 46130000 & 1\\\\\n\\end{tabular}\n",
            "text/plain": [
              "   cp     maxdepth minsplit minbucket ganancia_mean qty\n",
              "1   0.000 12       400       5        49330000      1  \n",
              "2   0.000 14       400       5        49330000      2  \n",
              "3   0.000 14       600       5        49330000      1  \n",
              "4   0.000  6       400       5        49300000      1  \n",
              "5   0.000  8       400       5        49300000      1  \n",
              "6   0.000 10       400       5        49300000      1  \n",
              "7  -0.100  8       400      10        47070000      1  \n",
              "8  -0.050  8       400      10        47070000      1  \n",
              "9  -0.010  8       400      10        47070000      1  \n",
              "10 -0.001 14       600      10        46130000      1  "
            ]
          },
          "metadata": {}
        }
      ],
      "source": [
        "# veo los 10 mejores hiperparámetros\n",
        "tb_grid_search[1:10]"
      ]
    },
    {
      "cell_type": "code",
      "execution_count": null,
      "metadata": {
        "id": "K3S-I2PTI5ZE"
      },
      "outputs": [],
      "source": [
        "# genero un id a la tabla\n",
        "tb_grid_search[, id := .I ]\n",
        "\n",
        "fwrite( tb_grid_search,\n",
        "  file = \"gridsearch.txt\",\n",
        "  sep = \"\\t\"\n",
        ")\n"
      ]
    },
    {
      "cell_type": "markdown",
      "metadata": {
        "id": "1rYHk1YkI_9k"
      },
      "source": [
        "# 4.  Análisis de resultados de Grid Search"
      ]
    },
    {
      "cell_type": "markdown",
      "metadata": {
        "id": "ZTJgPhMWJHTk"
      },
      "source": [
        "La salida de la corrida anterior queda en ~/buckets/b1/exp/HT2900  que corresponde a su Google Drive\n",
        "<br>HT significa Hyperparameter Tuning\n",
        "<br>El Grid Search es un método de fuerza bruta de un altísimo costo computacional.\n",
        "<br>Queremos ver si es posible crear un algoritmo de optimización de hiperparámetros que se ahorre recorrer ciertas porciones muy malas del espacio de búsqueda. Algo del estilo “cada vez que pruebo una combinación de hiperparámetros donde  cp > 1 , la ganancia es muy mala, con lo cual ni vale la pena perder el tiempo explorando en esa region”\n"
      ]
    },
    {
      "cell_type": "markdown",
      "metadata": {
        "id": "IaVgMu4tPwyB"
      },
      "source": [
        "<br>Levante el archivo de salida gridsearch.txt  a una planilla tipo Excel y analícelo detenidamente\n",
        "<br>Ordene por ganancia_mean descendente\n",
        "<br>\n",
        "<br>El de mayor ganancia_mean  decimos que es el primero del ranking\n",
        "En Zulip, correspondiente channel  #Tarea Hogar 02 , topic Analisis Grid Search   intente contestar estas preguntas:\n",
        "\n",
        "* ¿Qué combinaciones de hiperparámetros poseen una ganancia muy buena?\n",
        "* ¿Hay algun hiperparámetro que para cierto valor siempre genera una ganancia muy mala, a independientemente de lo que valgan los otros hiperparámetros ?\n",
        "* ¿Que combinaciones de hiperparámetros es pésima y hubiera sido bueno ahorrarse esas corridas ?\n",
        "\n",
        "( tiempo estimado 30 minutos, dificultad media )"
      ]
    },
    {
      "cell_type": "code",
      "execution_count": null,
      "metadata": {
        "id": "IDr-b2o31KFv"
      },
      "outputs": [],
      "source": [
        "from google.colab import drive\n",
        "drive.mount('/content/drive')\n",
        "\n",
        "# Definí la ruta a tu archivo en Drive:\n",
        "PATH_FILE = \"/content/drive/MyDrive/labo1/exp/HT2900/gridsearch.txt\"\n",
        "# o, si querés usar el otro:\n",
        "# PATH_FILE = \"/content/drive/MyDrive/exp/HT2900/gridsearch_detalle.txt\"\n"
      ]
    },
    {
      "cell_type": "code",
      "execution_count": null,
      "metadata": {
        "id": "X51JmS5QJ6CP"
      },
      "outputs": [],
      "source": [
        "!pip install plotly pandas\n",
        "import pandas as pd\n",
        "import plotly.graph_objs as go\n",
        "import plotly.io as pio\n",
        "from IPython.display import IFrame, HTML, display\n"
      ]
    },
    {
      "cell_type": "code",
      "execution_count": null,
      "metadata": {
        "id": "pAVzImtWKB9j"
      },
      "outputs": [],
      "source": [
        "df = pd.read_csv(PATH_FILE, sep=\"\\t\")\n",
        "\n",
        "# Aseguramos los tipos numéricos\n",
        "for col in [\"cp\",\"maxdepth\",\"minsplit\",\"minbucket\",\"ganancia_mean\",\"qty\"]:\n",
        "    if col in df.columns:\n",
        "        df[col] = pd.to_numeric(df[col], errors=\"coerce\")\n",
        "\n",
        "# Agregamos combinaciones (si hay múltiples corridas por semilla)\n",
        "agg = (\n",
        "    df.groupby([\"cp\",\"maxdepth\",\"minsplit\",\"minbucket\"], as_index=False)\n",
        "      .agg(ganancia_mean=(\"ganancia_mean\",\"mean\"),\n",
        "           ganancia_sd=(\"ganancia_mean\",\"std\"),\n",
        "           n_runs=(\"ganancia_mean\",\"size\"))\n",
        ")\n",
        "\n",
        "cp_levels    = sorted(agg[\"cp\"].dropna().unique().tolist())\n",
        "depth_levels = sorted(agg[\"maxdepth\"].dropna().unique().tolist())\n",
        "\n",
        "print(f\"Archivo leído correctamente. Total de combinaciones: {len(agg)}\")\n"
      ]
    },
    {
      "cell_type": "code",
      "execution_count": null,
      "metadata": {
        "id": "DKg1pM5aMtn3"
      },
      "outputs": [],
      "source": [
        "\n",
        "# ==== DASHBOARD HTML con FIX de visualización en Colab ====\n",
        "import os, shutil\n",
        "from IPython.display import IFrame, HTML, display\n",
        "import plotly.io as pio\n",
        "\n",
        "# 1) Generar el HTML del dashboard (inline)\n",
        "html3d   = pio.to_html(fig3d, include_plotlyjs=False, full_html=False)\n",
        "htmlpara = pio.to_html(parcoords, include_plotlyjs=False, full_html=False)\n",
        "\n",
        "html_page = f\"\"\"\n",
        "<!DOCTYPE html>\n",
        "<html lang='es'>\n",
        "<head>\n",
        "<meta charset='utf-8'>\n",
        "<title>Dashboard Grid Search</title>\n",
        "<script src='https://cdn.plot.ly/plotly-latest.min.js'></script>\n",
        "<style>\n",
        "  body {{ font-family: Arial, sans-serif; margin: 20px; }}\n",
        "  h1 {{ margin-bottom: 0; }}\n",
        "  .caption {{ color:#555; margin-bottom: 20px; }}\n",
        "  .section {{ margin-top: 26px; }}\n",
        "</style>\n",
        "</head>\n",
        "<body>\n",
        "<h1>Dashboard — Grid Search (Árbol de decisión)</h1>\n",
        "<p class=\"caption\">Menú del 3D para filtrar por <b>cp</b>. En Parallel Coordinates arrastrá en los ejes para filtrar rangos.</p>\n",
        "\n",
        "<div class=\"section\">\n",
        "  <h2>3D interactivo</h2>\n",
        "  {html3d}\n",
        "</div>\n",
        "\n",
        "<div class=\"section\">\n",
        "  <h2>Parallel Coordinates</h2>\n",
        "  {htmlpara}\n",
        "</div>\n",
        "\n",
        "<hr/>\n",
        "<p class=\"caption\">Generado automáticamente.</p>\n",
        "</body>\n",
        "</html>\n",
        "\"\"\"\n",
        "\n",
        "# 2) Guardar a /content (local) y mostrar desde allí\n",
        "LOCAL_FOLDER = \"/content\"  # <- servido por /files\n",
        "os.makedirs(LOCAL_FOLDER, exist_ok=True)\n",
        "LOCAL_DASH = os.path.join(LOCAL_FOLDER, \"gridsearch_dashboard_interactivo.html\")\n",
        "LOCAL_3D   = os.path.join(LOCAL_FOLDER, \"gridsearch_3d_interactivo.html\")\n",
        "LOCAL_PAR  = os.path.join(LOCAL_FOLDER, \"gridsearch_parcoords_interactivo.html\")\n",
        "\n",
        "with open(LOCAL_DASH, \"w\", encoding=\"utf-8\") as f:\n",
        "    f.write(html_page)\n",
        "\n",
        "# (Por si querés los individuales también en /content)\n",
        "pio.write_html(fig3d,    file=LOCAL_3D, include_plotlyjs=\"cdn\", full_html=True)\n",
        "pio.write_html(parcoords,file=LOCAL_PAR, include_plotlyjs=\"cdn\", full_html=True)\n",
        "\n",
        "# 3) Copiar a Drive para conservarlos\n",
        "OUTPUT_FOLDER = \"/content/drive/MyDrive/labo1/exp/HT2900/\"\n",
        "os.makedirs(OUTPUT_FOLDER, exist_ok=True)\n",
        "shutil.copy2(LOCAL_DASH, os.path.join(OUTPUT_FOLDER, \"gridsearch_dashboard_interactivo.html\"))\n",
        "shutil.copy2(LOCAL_3D,   os.path.join(OUTPUT_FOLDER, \"gridsearch_3d_interactivo.html\"))\n",
        "shutil.copy2(LOCAL_PAR,  os.path.join(OUTPUT_FOLDER, \"gridsearch_parcoords_interactivo.html\"))\n",
        "\n",
        "# 4) Mostrar: A) Inline (siempre funciona)\n",
        "display(HTML(\"<h3>Dashboard generado correctamente (inline):</h3>\"))\n",
        "display(HTML(html_page))\n",
        "\n",
        "# 4) Mostrar: B) IFrame servido por Colab desde /content (evita localhost:8080)\n",
        "display(HTML(\"<h3>Dashboard (IFrame desde /content):</h3>\"))\n",
        "display(IFrame(src=f\"/files{LOCAL_DASH}\", width=\"100%\", height=\"640\"))\n",
        "\n",
        "print(\"Archivos guardados en Drive:\")\n",
        "print(os.path.join(OUTPUT_FOLDER, \"gridsearch_dashboard_interactivo.html\"))\n",
        "print(os.path.join(OUTPUT_FOLDER, \"gridsearch_3d_interactivo.html\"))\n",
        "print(os.path.join(OUTPUT_FOLDER, \"gridsearch_parcoords_interactivo.html\"))\n"
      ]
    },
    {
      "cell_type": "code",
      "execution_count": null,
      "metadata": {
        "id": "mWrgKOymZBDK"
      },
      "outputs": [],
      "source": [
        "# ==== DESCARGAR DASHBOARD Y GRÁFICOS HTML ====\n",
        "from google.colab import files\n",
        "\n",
        "# Rutas locales generadas en la celda anterior\n",
        "files.download(\"/content/gridsearch_dashboard_interactivo.html\")\n",
        "files.download(\"/content/gridsearch_3d_interactivo.html\")\n",
        "files.download(\"/content/gridsearch_parcoords_interactivo.html\")\n",
        "\n",
        "print(\"✅ Archivos descargados correctamente. También se guardaron en tu Drive dentro de /labo1/exp/HT2900/\")\n"
      ]
    }
  ],
  "metadata": {
    "colab": {
      "provenance": []
    },
    "kernelspec": {
      "display_name": "R",
      "name": "ir"
    },
    "language_info": {
      "name": "R"
    }
  },
  "nbformat": 4,
  "nbformat_minor": 0
}